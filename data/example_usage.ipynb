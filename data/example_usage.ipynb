{
 "cells": [
  {
   "cell_type": "code",
   "execution_count": 10,
   "metadata": {},
   "outputs": [],
   "source": [
    "import dataPreprocessor as dp\n",
    "import pandas as pd\n",
    "import numpy as np"
   ]
  },
  {
   "cell_type": "code",
   "execution_count": 11,
   "metadata": {},
   "outputs": [
    {
     "name": "stdout",
     "output_type": "stream",
     "text": [
      "One-Hot Encoded DataFrame:\n",
      "   value  category_A  category_B  category_C\n",
      "0     10         1.0         0.0         0.0\n",
      "1     20         0.0         1.0         0.0\n",
      "2     10         1.0         0.0         0.0\n",
      "3     30         0.0         0.0         1.0\n",
      "4     20         0.0         1.0         0.0\n",
      "5     30         0.0         0.0         1.0\n",
      "\n",
      "Label Encoded DataFrame:\n",
      "   category  value\n",
      "0         0     10\n",
      "1         1     20\n",
      "2         0     10\n",
      "3         2     30\n",
      "4         1     20\n",
      "5         2     30\n"
     ]
    },
    {
     "name": "stderr",
     "output_type": "stream",
     "text": [
      "c:\\Users\\Panda\\AppData\\Local\\Programs\\Python\\Python311\\Lib\\site-packages\\sklearn\\preprocessing\\_encoders.py:975: FutureWarning: `sparse` was renamed to `sparse_output` in version 1.2 and will be removed in 1.4. `sparse_output` is ignored unless you leave `sparse` to its default value.\n",
      "  warnings.warn(\n"
     ]
    }
   ],
   "source": [
    "data = {\n",
    "    'category': ['A', 'B', 'A', 'C', 'B', 'C'],\n",
    "    'value': [10, 20, 10, 30, 20, 30]\n",
    "}\n",
    "df = pd.DataFrame(data)\n",
    "\n",
    "# categorical_encoder sınıfını kullanarak bir nesne oluşturun\n",
    "cat_encoder = dp.categorical_encoder()\n",
    "\n",
    "# One-Hot Encoding uygulayın\n",
    "df_one_hot_encoded = cat_encoder.one_hot_encode(df, 'category')\n",
    "print(\"One-Hot Encoded DataFrame:\")\n",
    "print(df_one_hot_encoded)\n",
    "\n",
    "# Label Encoding uygulayın\n",
    "df_label_encoded = cat_encoder.label_encode(df.copy(), 'category')\n",
    "print(\"\\nLabel Encoded DataFrame:\")\n",
    "print(df_label_encoded)"
   ]
  },
  {
   "cell_type": "code",
   "execution_count": 12,
   "metadata": {},
   "outputs": [
    {
     "name": "stdout",
     "output_type": "stream",
     "text": [
      "Numeric Conversion:\n",
      "   numeric  categorical\n",
      "0      1.0            1\n",
      "1      2.0            2\n",
      "2      NaN            3\n",
      "3      4.5            4\n",
      "\n",
      "Categorical Conversion:\n",
      "  numeric categorical\n",
      "0       1           1\n",
      "1       2           2\n",
      "2   three           3\n",
      "3     4.5           4\n"
     ]
    }
   ],
   "source": [
    "\n",
    "data = {\n",
    "    'numeric': ['1', '2', 'three', '4.5'],\n",
    "    'categorical': [1, 2, 3, 4]\n",
    "}\n",
    "df = pd.DataFrame(data)\n",
    "\n",
    "# Data Type Converter sınıfını oluşturma\n",
    "type_converter = dp.data_type_converter()\n",
    "\n",
    "# Numeric dönüştürme testi\n",
    "df_numeric_converted = type_converter.to_numeric(df.copy(), 'numeric')\n",
    "print(\"Numeric Conversion:\")\n",
    "print(df_numeric_converted)\n",
    "\n",
    "# Categorical dönüştürme testi\n",
    "df_categorical_converted = type_converter.to_categorical(df.copy(), 'categorical')\n",
    "print(\"\\nCategorical Conversion:\")\n",
    "print(df_categorical_converted)\n"
   ]
  },
  {
   "cell_type": "code",
   "execution_count": 13,
   "metadata": {},
   "outputs": [
    {
     "name": "stdout",
     "output_type": "stream",
     "text": [
      "                  text\n",
      "0          hello world\n",
      "1                 test\n",
      "2     nlp python great\n",
      "3  data science future\n"
     ]
    }
   ],
   "source": [
    "data = {\n",
    "    'text': [\n",
    "        'Hello world!',\n",
    "        'This is a test.',\n",
    "        'NLP with Python is great.',\n",
    "        'Data Science is the future!'\n",
    "    ]\n",
    "}\n",
    "df = pd.DataFrame(data)\n",
    "\n",
    "# text_cleaner sınıfını kullanarak metin verilerini temizleyin\n",
    "text_clean = dp.text_cleaner()\n",
    "cleaned_df = text_clean.clean_column(df, 'text')\n",
    "\n",
    "# Sonucu göster\n",
    "print(cleaned_df)"
   ]
  },
  {
   "cell_type": "code",
   "execution_count": 14,
   "metadata": {},
   "outputs": [
    {
     "name": "stdout",
     "output_type": "stream",
     "text": [
      "Min-Max Scaled Data:\n",
      "    numeric\n",
      "0  0.000000\n",
      "1  0.111111\n",
      "2  0.222222\n",
      "3  0.333333\n",
      "4  0.444444\n",
      "5  0.555556\n",
      "6  0.666667\n",
      "7  0.777778\n",
      "8  0.888889\n",
      "9  1.000000\n",
      "\n",
      "Standard Scaled Data:\n",
      "    numeric\n",
      "0 -1.566699\n",
      "1 -1.218544\n",
      "2 -0.870388\n",
      "3 -0.522233\n",
      "4 -0.174078\n",
      "5  0.174078\n",
      "6  0.522233\n",
      "7  0.870388\n",
      "8  1.218544\n",
      "9  1.566699\n"
     ]
    }
   ],
   "source": [
    "data = {\n",
    "    'numeric': [1, 2, 3, 4, 5, 6, 7, 8, 9, 10]\n",
    "}\n",
    "df = pd.DataFrame(data)\n",
    "\n",
    "# scaler sınıfını başlat\n",
    "scal = dp.scaler()\n",
    "\n",
    "# Min-Max ölçeklendirme\n",
    "df_min_max_scaled = scal.min_max_scale(df.copy(), 'numeric')\n",
    "print(\"Min-Max Scaled Data:\")\n",
    "print(df_min_max_scaled)\n",
    "\n",
    "# Standart ölçeklendirme\n",
    "df_standard_scaled = scal.standard_scale(df.copy(), 'numeric')\n",
    "print(\"\\nStandard Scaled Data:\")\n",
    "print(df_standard_scaled)"
   ]
  },
  {
   "cell_type": "code",
   "execution_count": 15,
   "metadata": {},
   "outputs": [
    {
     "name": "stdout",
     "output_type": "stream",
     "text": [
      "Mean ile doldurulmuş DataFrame:\n",
      "     A    B\n",
      "0  1.0  NaN\n",
      "1  2.0  2.0\n",
      "2  3.0  3.0\n",
      "3  4.0  NaN\n",
      "4  5.0  5.0\n",
      "\n",
      "Median ile doldurulmuş DataFrame:\n",
      "     A    B\n",
      "0  1.0  3.0\n",
      "1  2.0  2.0\n",
      "2  NaN  3.0\n",
      "3  4.0  3.0\n",
      "4  5.0  5.0\n",
      "\n",
      "Sabit bir değer ile doldurulmuş DataFrame:\n",
      "     A      B\n",
      "0  1.0  999.0\n",
      "1  2.0    2.0\n",
      "2  NaN    3.0\n",
      "3  4.0  999.0\n",
      "4  5.0    5.0\n",
      "\n",
      "Eksik değerleri silinmiş DataFrame:\n",
      "     A    B\n",
      "0  1.0  NaN\n",
      "1  2.0  2.0\n",
      "3  4.0  NaN\n",
      "4  5.0  5.0\n"
     ]
    }
   ],
   "source": [
    "data = {\n",
    "    'A': [1, 2, np.nan, 4, 5],\n",
    "    'B': [np.nan, 2, 3, np.nan, 5]\n",
    "}\n",
    "df = pd.DataFrame(data)\n",
    "\n",
    "# Missing Value Handler sınıfını kullanarak eksik değerleri doldurma\n",
    "mv_handler = dp.missing_value_handler()\n",
    "\n",
    "# Mean ile doldurma\n",
    "df_mean = mv_handler.impute_mean(df.copy(), 'A')\n",
    "print(\"Mean ile doldurulmuş DataFrame:\")\n",
    "print(df_mean)\n",
    "\n",
    "# Median ile doldurma\n",
    "df_median = mv_handler.impute_median(df.copy(), 'B')\n",
    "print(\"\\nMedian ile doldurulmuş DataFrame:\")\n",
    "print(df_median)\n",
    "\n",
    "# Sabit bir değer ile doldurma\n",
    "df_constant = mv_handler.impute_constant(df.copy(), 'B', 999)\n",
    "print(\"\\nSabit bir değer ile doldurulmuş DataFrame:\")\n",
    "print(df_constant)\n",
    "\n",
    "# Eksik değerleri silme\n",
    "df_deleted = mv_handler.delete_missing(df.copy(), 'A')\n",
    "print(\"\\nEksik değerleri silinmiş DataFrame:\")\n",
    "print(df_deleted)"
   ]
  },
  {
   "cell_type": "code",
   "execution_count": 16,
   "metadata": {},
   "outputs": [
    {
     "name": "stdout",
     "output_type": "stream",
     "text": [
      "Orjinal DataFrame:\n",
      "    numeric\n",
      "0         1\n",
      "1         2\n",
      "2         3\n",
      "3         4\n",
      "4         5\n",
      "5         6\n",
      "6         7\n",
      "7         8\n",
      "8         9\n",
      "9        10\n",
      "10      100\n",
      "\n",
      "Outlier'lar filtrelenmiş DataFrame:\n",
      "   numeric\n",
      "0        1\n",
      "1        2\n",
      "2        3\n",
      "3        4\n",
      "4        5\n",
      "5        6\n",
      "6        7\n",
      "7        8\n",
      "8        9\n",
      "9       10\n"
     ]
    }
   ],
   "source": [
    "data = {\n",
    "    'numeric': [1, 2, 3, 4, 5, 6, 7, 8, 9, 10, 100]\n",
    "}\n",
    "df = pd.DataFrame(data)\n",
    "\n",
    "\n",
    "# Outlier Handler sınıfını kullanarak outlier'ları filtreleme\n",
    "out_handler = dp.outlier_handler()\n",
    "filtered_df = out_handler.iqr_outliers(df, 'numeric')\n",
    "\n",
    "# Sonuçları göster\n",
    "print(\"Orjinal DataFrame:\")\n",
    "print(df)\n",
    "print(\"\\nOutlier'lar filtrelenmiş DataFrame:\")\n",
    "print(filtered_df)"
   ]
  },
  {
   "cell_type": "code",
   "execution_count": 17,
   "metadata": {},
   "outputs": [
    {
     "name": "stdout",
     "output_type": "stream",
     "text": [
      "  date_column  date_column_year  date_column_month  date_column_day  \\\n",
      "0  2024-01-01              2024                  1                1   \n",
      "1  2024-02-15              2024                  2               15   \n",
      "2  2024-03-10              2024                  3               10   \n",
      "3  2024-04-20              2024                  4               20   \n",
      "\n",
      "   date_column_weekday  \n",
      "0                    0  \n",
      "1                    3  \n",
      "2                    6  \n",
      "3                    5  \n"
     ]
    }
   ],
   "source": [
    "data = {\n",
    "    'date_column': ['2024-01-01', '2024-02-15', '2024-03-10', '2024-04-20']\n",
    "}\n",
    "df = pd.DataFrame(data)\n",
    "\n",
    "# Datetime Handler kullanımı\n",
    "handler = dp.datetime_handler()\n",
    "df = handler.extract_date_parts(df, 'date_column')\n",
    "\n",
    "# Sonucu göster\n",
    "print(df)"
   ]
  },
  {
   "cell_type": "code",
   "execution_count": 18,
   "metadata": {},
   "outputs": [
    {
     "name": "stdout",
     "output_type": "stream",
     "text": [
      "   col1  col2  col_sum  col_diff\n",
      "0     1     5        6        -4\n",
      "1     2     6        8        -4\n",
      "2     3     7       10        -4\n",
      "3     4     8       12        -4\n"
     ]
    }
   ],
   "source": [
    "data = {\n",
    "    'col1': [1, 2, 3, 4],\n",
    "    'col2': [5, 6, 7, 8]\n",
    "}\n",
    "df = pd.DataFrame(data)\n",
    "\n",
    "# FeatureEngineer sınıfını oluşturma\n",
    "feature_eng = dp.feature_engineer()\n",
    "\n",
    "# Yeni bir özellik oluşturma: col1 ve col2'yi toplama\n",
    "\n",
    "df = feature_eng.create_feature(df, 'col_sum', feature_eng.add_columns, 'col1', 'col2', operation=lambda x, y: x + y)\n",
    "\n",
    "# Yeni bir özellik oluşturma: col1 ve col2'yi çıkarma\n",
    "df = feature_eng.create_feature(df, 'col_diff', feature_eng.add_columns, 'col1', 'col2', operation=lambda x, y: x - y)\n",
    "\n",
    "# Sonucu gösterme\n",
    "print(df)"
   ]
  },
  {
   "cell_type": "code",
   "execution_count": null,
   "metadata": {},
   "outputs": [],
   "source": []
  }
 ],
 "metadata": {
  "kernelspec": {
   "display_name": "Python 3",
   "language": "python",
   "name": "python3"
  },
  "language_info": {
   "codemirror_mode": {
    "name": "ipython",
    "version": 3
   },
   "file_extension": ".py",
   "mimetype": "text/x-python",
   "name": "python",
   "nbconvert_exporter": "python",
   "pygments_lexer": "ipython3",
   "version": "3.11.6"
  }
 },
 "nbformat": 4,
 "nbformat_minor": 2
}
